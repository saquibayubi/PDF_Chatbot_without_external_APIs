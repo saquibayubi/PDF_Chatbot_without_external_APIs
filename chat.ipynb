{
 "cells": [
  {
   "cell_type": "code",
   "execution_count": 1,
   "metadata": {},
   "outputs": [
    {
     "name": "stderr",
     "output_type": "stream",
     "text": [
      "c:\\Users\\saqui\\OneDrive\\Desktop\\Alemeno\\alemeno\\lib\\site-packages\\sentence_transformers\\cross_encoder\\CrossEncoder.py:11: TqdmWarning: IProgress not found. Please update jupyter and ipywidgets. See https://ipywidgets.readthedocs.io/en/stable/user_install.html\n",
      "  from tqdm.autonotebook import tqdm, trange\n"
     ]
    }
   ],
   "source": [
    "from pdfminer.high_level import extract_text\n",
    "from sentence_transformers import SentenceTransformer\n",
    "import faiss\n",
    "import numpy as np\n",
    "import h5py\n"
   ]
  },
  {
   "cell_type": "markdown",
   "metadata": {},
   "source": [
    "# Function to Load PDFs and Extract text from each page of PDFs"
   ]
  },
  {
   "cell_type": "code",
   "execution_count": 2,
   "metadata": {},
   "outputs": [],
   "source": [
    "\n",
    "def load_pdfs():\n",
    "    pdf_files = {\"Alphabet Inc.\": \"goog-10-k-2023 (1).pdf\", \"Tesla, Inc.\": \"tsla-20231231-gen.pdf\", \"Uber Technologies, Inc.\": \"uber-10-k-2023.pdf\"}\n",
    "    pdf_texts = {}\n",
    "    for name, path in pdf_files.items():\n",
    "        text = extract_text(path)\n",
    "        pdf_texts[name] = text\n",
    "    return pdf_texts\n"
   ]
  },
  {
   "cell_type": "markdown",
   "metadata": {},
   "source": [
    "# Function to Generating Embeddings by converting texts into High Dimensional Vectors"
   ]
  },
  {
   "cell_type": "code",
   "execution_count": 3,
   "metadata": {},
   "outputs": [],
   "source": [
    "\n",
    "def generate_embeddings(texts, model):\n",
    "    embeddings = {}\n",
    "    for name, text in texts.items():\n",
    "        embeddings[name] = model.encode([text])[0]\n",
    "    return embeddings\n"
   ]
  },
  {
   "cell_type": "markdown",
   "metadata": {},
   "source": [
    "# Function to Store Embeddings by using Faiss Indexing which helps in getting nearest neighbour while querying "
   ]
  },
  {
   "cell_type": "code",
   "execution_count": 4,
   "metadata": {},
   "outputs": [],
   "source": [
    "\n",
    "def store_embeddings(embeddings):\n",
    "    dimension = len(next(iter(embeddings.values())))\n",
    "    index = faiss.IndexFlatL2(dimension)\n",
    "    vectors = []\n",
    "    metadata = []\n",
    "    for name, embedding in embeddings.items():\n",
    "        vectors.append(embedding)\n",
    "        metadata.append(name)\n",
    "    vectors = np.array(vectors).astype('float32')\n",
    "    index.add(vectors)\n",
    "    return index, metadata\n"
   ]
  },
  {
   "cell_type": "markdown",
   "metadata": {},
   "source": [
    "# Function to save a FAISS index and its associated metadata to an HDF5 file. HDF5 "
   ]
  },
  {
   "cell_type": "code",
   "execution_count": 5,
   "metadata": {},
   "outputs": [],
   "source": [
    "\n",
    "def save_faiss_index(index, metadata, filename):\n",
    "    with h5py.File(filename, 'w') as f:\n",
    "        f.create_dataset('faiss_index', data=faiss.serialize_index(index))\n",
    "        f.create_dataset('metadata', data=np.array(metadata, dtype='S'))\n"
   ]
  },
  {
   "cell_type": "markdown",
   "metadata": {},
   "source": [
    "# Loading al-MiniLM-L6-v2 model for embedding "
   ]
  },
  {
   "cell_type": "code",
   "execution_count": 6,
   "metadata": {},
   "outputs": [],
   "source": [
    "\n",
    "# Load models\n",
    "embedding_model = SentenceTransformer('all-MiniLM-L6-v2')\n"
   ]
  },
  {
   "cell_type": "code",
   "execution_count": 7,
   "metadata": {},
   "outputs": [],
   "source": [
    "\n",
    "# Load and process PDFs\n",
    "pdf_texts = load_pdfs()\n",
    "embeddings = generate_embeddings(pdf_texts, embedding_model)\n",
    "index, metadata = store_embeddings(embeddings)\n"
   ]
  },
  {
   "cell_type": "code",
   "execution_count": 8,
   "metadata": {},
   "outputs": [],
   "source": [
    "\n",
    "# Save FAISS index and metadata to HDF5 file\n",
    "save_faiss_index(index, metadata, 'faiss_index.h5')\n"
   ]
  }
 ],
 "metadata": {
  "kernelspec": {
   "display_name": "alemeno",
   "language": "python",
   "name": "python3"
  },
  "language_info": {
   "codemirror_mode": {
    "name": "ipython",
    "version": 3
   },
   "file_extension": ".py",
   "mimetype": "text/x-python",
   "name": "python",
   "nbconvert_exporter": "python",
   "pygments_lexer": "ipython3",
   "version": "3.10.9"
  }
 },
 "nbformat": 4,
 "nbformat_minor": 2
}
